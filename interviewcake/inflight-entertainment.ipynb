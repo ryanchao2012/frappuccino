{
 "cells": [
  {
   "cell_type": "markdown",
   "metadata": {
    "toc": true
   },
   "source": [
    "<h1>Table of Contents<span class=\"tocSkip\"></span></h1>\n",
    "<div class=\"toc\"><ul class=\"toc-item\"><li><span><a href=\"#You've-built-an-inflight-entertainment-system-with-on-demand-movie-streaming.\" data-toc-modified-id=\"You've-built-an-inflight-entertainment-system-with-on-demand-movie-streaming.-1\"><span class=\"toc-item-num\">1&nbsp;&nbsp;</span>You've built an inflight entertainment system with on-demand movie streaming.</a></span><ul class=\"toc-item\"><li><span><a href=\"#Gotchas\" data-toc-modified-id=\"Gotchas-1.1\"><span class=\"toc-item-num\">1.1&nbsp;&nbsp;</span>Gotchas</a></span></li><li><span><a href=\"#Solution\" data-toc-modified-id=\"Solution-1.2\"><span class=\"toc-item-num\">1.2&nbsp;&nbsp;</span>Solution</a></span></li><li><span><a href=\"#Complexity\" data-toc-modified-id=\"Complexity-1.3\"><span class=\"toc-item-num\">1.3&nbsp;&nbsp;</span>Complexity</a></span></li><li><span><a href=\"#Bonus\" data-toc-modified-id=\"Bonus-1.4\"><span class=\"toc-item-num\">1.4&nbsp;&nbsp;</span>Bonus</a></span></li></ul></li></ul></div>"
   ]
  },
  {
   "cell_type": "markdown",
   "metadata": {},
   "source": [
    "# You've built an inflight entertainment system with on-demand movie streaming.\n",
    "\n",
    "Users on longer flights like to start a second movie right when their first one ends, but they complain that the plane usually lands before they can see the ending. So you're building a feature for choosing two movies whose total runtimes will equal the exact flight length.\n",
    "\n",
    "Write a function that takes an integer flight_length (in minutes) and a list of integers movie_lengths (in minutes) and returns a boolean indicating whether there are two numbers in movie_lengths whose sum equals flight_length.\n",
    "\n",
    "When building your function:\n",
    "\n",
    "* Assume your users will watch exactly two movies\n",
    "* Don't make your users watch the same movie twice\n",
    "* Optimize for runtime over memory"
   ]
  },
  {
   "cell_type": "markdown",
   "metadata": {},
   "source": [
    "## Gotchas\n",
    "\n",
    "We can do this in $O(n)$ time, where $n$ is the length of movie_lengths.\n",
    "\n",
    "Remember: your users shouldn't watch the same movie twice. Are you sure your function won’t give a false positive if the list has one element that is half flight_length?"
   ]
  },
  {
   "cell_type": "markdown",
   "metadata": {},
   "source": [
    "## Solution"
   ]
  },
  {
   "cell_type": "code",
   "execution_count": 1,
   "metadata": {
    "ExecuteTime": {
     "end_time": "2018-08-26T14:21:39.526343Z",
     "start_time": "2018-08-26T14:21:39.483242Z"
    }
   },
   "outputs": [
    {
     "name": "stderr",
     "output_type": "stream",
     "text": [
      "test_long_flight (__main__.Test) ... ok\n",
      "test_lots_of_possible_pairs (__main__.Test) ... ok\n",
      "test_no_movies (__main__.Test) ... ok\n",
      "test_one_movie_half_flight_length (__main__.Test) ... ok\n",
      "test_only_one_movie (__main__.Test) ... ok\n",
      "test_short_flight (__main__.Test) ... ok\n",
      "test_two_movies_half_flight_length (__main__.Test) ... ok\n",
      "\n",
      "----------------------------------------------------------------------\n",
      "Ran 7 tests in 0.007s\n",
      "\n",
      "OK\n"
     ]
    }
   ],
   "source": [
    "import unittest\n",
    "\n",
    "\n",
    "def can_two_movies_fill_flight(movie_lengths, flight_length):\n",
    "\n",
    "    # Determine if two movie runtimes add up to the flight length\n",
    "    # edge case\n",
    "    if len(movie_lengths) < 2:\n",
    "        return False\n",
    "    \n",
    "    # strategy: build a dictionary to record the `length pair`,\n",
    "    # ex: for `flight_length = 7`, dict[4] = 3, dict[2] = 5, etc.\n",
    "    length_pairs = dict()\n",
    "    \n",
    "    for len_ in movie_lengths:\n",
    "        if len_ <= 0 or len_ >= flight_length:\n",
    "            continue\n",
    "        complement = flight_length - len_\n",
    "        if complement in length_pairs:\n",
    "            return True\n",
    "        else:\n",
    "            length_pairs[len_] = complement\n",
    "    return False\n",
    "\n",
    "\n",
    "\n",
    "# Tests\n",
    "\n",
    "class Test(unittest.TestCase):\n",
    "\n",
    "    def test_short_flight(self):\n",
    "        result = can_two_movies_fill_flight([2, 4], 1)\n",
    "        self.assertFalse(result)\n",
    "\n",
    "    def test_long_flight(self):\n",
    "        result = can_two_movies_fill_flight([2, 4], 6)\n",
    "        self.assertTrue(result)\n",
    "\n",
    "    def test_one_movie_half_flight_length(self):\n",
    "        result = can_two_movies_fill_flight([3, 8], 6)\n",
    "        self.assertFalse(result)\n",
    "\n",
    "    def test_two_movies_half_flight_length(self):\n",
    "        result = can_two_movies_fill_flight([3, 8, 3], 6)\n",
    "        self.assertTrue(result)\n",
    "\n",
    "    def test_lots_of_possible_pairs(self):\n",
    "        result = can_two_movies_fill_flight([1, 2, 3, 4, 5, 6], 7)\n",
    "        self.assertTrue(result)\n",
    "\n",
    "    def test_only_one_movie(self):\n",
    "        result = can_two_movies_fill_flight([6], 6)\n",
    "        self.assertFalse(result)\n",
    "\n",
    "    def test_no_movies(self):\n",
    "        result = can_two_movies_fill_flight([], 2)\n",
    "        self.assertFalse(result)\n",
    "\n",
    "\n",
    "if __name__ == '__main__':\n",
    "    unittest.main(argv=['first-arg-is-ignored'], exit=False, verbosity=2)\n"
   ]
  },
  {
   "cell_type": "markdown",
   "metadata": {},
   "source": [
    "## Complexity\n",
    "\n",
    "$O(n)$ time, and $O(n)$ space. Note while optimizing runtime we added a bit of space cost."
   ]
  },
  {
   "cell_type": "markdown",
   "metadata": {},
   "source": [
    "## Bonus\n",
    "\n",
    "1. What if we wanted the movie lengths to sum to something close to the flight length (say, within 20 minutes)?\n",
    "2. What if we wanted to fill the flight length as nicely as possible with any number of movies (not just 2)?\n",
    "3. What if we knew that movie_lengths was sorted? Could we save some space and/or time?"
   ]
  },
  {
   "cell_type": "code",
   "execution_count": null,
   "metadata": {},
   "outputs": [],
   "source": []
  }
 ],
 "metadata": {
  "kernelspec": {
   "display_name": "Python 3",
   "language": "python",
   "name": "python3"
  },
  "language_info": {
   "codemirror_mode": {
    "name": "ipython",
    "version": 3
   },
   "file_extension": ".py",
   "mimetype": "text/x-python",
   "name": "python",
   "nbconvert_exporter": "python",
   "pygments_lexer": "ipython3",
   "version": "3.6.1"
  },
  "toc": {
   "nav_menu": {},
   "number_sections": true,
   "sideBar": true,
   "skip_h1_title": false,
   "title_cell": "Table of Contents",
   "title_sidebar": "Contents",
   "toc_cell": true,
   "toc_position": {},
   "toc_section_display": true,
   "toc_window_display": false
  }
 },
 "nbformat": 4,
 "nbformat_minor": 2
}
