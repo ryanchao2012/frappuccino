{
 "cells": [
  {
   "cell_type": "markdown",
   "metadata": {},
   "source": [
    "# I want to learn some big words so people think I'm smart.\n",
    "\n",
    "I opened up a dictionary to a page in the middle and started flipping through, looking for words I didn't know. I put each word I didn't know at increasing indices in a huge list I created in memory. When I reached the end of the dictionary, I started from the beginning and did the same thing until I reached the page I started at.\n",
    "\n",
    "Now I have a list of words that are mostly alphabetical, except they start somewhere in the middle of the alphabet, reach the end, and then start from the beginning of the alphabet. In other words, this is an alphabetically ordered list that has been \"rotated.\" For example:\n",
    "\n",
    "```python\n",
    "words = [\n",
    "    'ptolemaic',\n",
    "    'retrograde',\n",
    "    'supplant',\n",
    "    'undulate',\n",
    "    'xenoepist',\n",
    "    'asymptote',  # <-- rotates here!\n",
    "    'babka',\n",
    "    'banoffee',\n",
    "    'engender',\n",
    "    'karpatka',\n",
    "    'othellolagkage',\n",
    "]\n",
    "```\n",
    "\n",
    "**Write a function for finding the index of the \"rotation point,\"** which is where I started working from the beginning of the dictionary. This list is huge (there are lots of words I don't know) so we want to be efficient here."
   ]
  },
  {
   "cell_type": "markdown",
   "metadata": {},
   "source": [
    "## Solution"
   ]
  },
  {
   "cell_type": "code",
   "execution_count": 9,
   "metadata": {
    "ExecuteTime": {
     "end_time": "2018-08-26T14:39:09.013827Z",
     "start_time": "2018-08-26T14:39:09.008633Z"
    }
   },
   "outputs": [
    {
     "data": {
      "text/plain": [
       "False"
      ]
     },
     "execution_count": 9,
     "metadata": {},
     "output_type": "execute_result"
    }
   ],
   "source": [
    "a = ['xx', 'aa']\n",
    "\n",
    "a[1] > a[0]"
   ]
  },
  {
   "cell_type": "code",
   "execution_count": 10,
   "metadata": {
    "ExecuteTime": {
     "end_time": "2018-08-26T14:40:40.209328Z",
     "start_time": "2018-08-26T14:40:40.195956Z"
    }
   },
   "outputs": [
    {
     "name": "stderr",
     "output_type": "stream",
     "text": [
      "test_large_list (__main__.Test) ... ok\n",
      "test_medium_list (__main__.Test) ... ok\n",
      "test_small_list (__main__.Test) ... ok\n",
      "\n",
      "----------------------------------------------------------------------\n",
      "Ran 3 tests in 0.003s\n",
      "\n",
      "OK\n"
     ]
    }
   ],
   "source": [
    "import unittest\n",
    "\n",
    "\n",
    "# TODO\n",
    "def find_rotation_point(words):\n",
    "    \n",
    "    if len(words) == 0:\n",
    "        return -1\n",
    "    \n",
    "    # Find the rotation point in the list\n",
    "    for i, x in enumerate(words[1:], 1):\n",
    "        if not x > words[i - 1]:\n",
    "            return i\n",
    "    return 0\n",
    "\n",
    "\n",
    "\n",
    "# Tests\n",
    "\n",
    "class Test(unittest.TestCase):\n",
    "\n",
    "    def test_small_list(self):\n",
    "        actual = find_rotation_point(['cape', 'cake'])\n",
    "        expected = 1\n",
    "        self.assertEqual(actual, expected)\n",
    "\n",
    "    def test_medium_list(self):\n",
    "        actual = find_rotation_point(['grape', 'orange', 'plum',\n",
    "                                      'radish', 'apple'])\n",
    "        expected = 4\n",
    "        self.assertEqual(actual, expected)\n",
    "\n",
    "    def test_large_list(self):\n",
    "        actual = find_rotation_point(['ptolemaic', 'retrograde', 'supplant',\n",
    "                                      'undulate', 'xenoepist', 'asymptote',\n",
    "                                      'babka', 'banoffee', 'engender',\n",
    "                                      'karpatka', 'othellolagkage'])\n",
    "        expected = 5\n",
    "        self.assertEqual(actual, expected)\n",
    "\n",
    "    # Are we missing any edge cases?\n",
    "\n",
    "\n",
    "if __name__ == '__main__':\n",
    "    unittest.main(argv=['first-arg-is-ignored'], exit=False, verbosity=2)\n"
   ]
  },
  {
   "cell_type": "markdown",
   "metadata": {},
   "source": [
    "## Complexity\n",
    "\n",
    "Each time we go through the while loop, we cut our range of indices in half, just like binary search. So we have $O(\\lg{n})$ loop iterations.\n",
    "\n",
    "In each loop iteration, we do some arithmetic and a string comparison. The arithmetic is constant time, but the string comparison requires looking at characters in both words—every character in the worst case. Here, we'll assume our word lengths are bounded by some constant so we'll say the string comparison takes constant time.\n",
    "\n",
    "> The longest word in English is pneumonoultramicroscopicsilicovolcanoconiosis, a medical term. It's 45 letters long.\n",
    "\n",
    "Putting everything together, we do $O(\\lg{n})$ iterations, and each iteration is $O(1)$ time. So our time complexity is $O(\\lg{n})$.\n",
    "\n",
    "> Some languages—like German, Russian, and Dutch—can have arbitrarily long words, so we might want to factor the length of the words into our runtime. We could say the length of the words is $\\ell$, each string comparison takes $O(\\ell)$ time, and the whole algorithm takes $O(\\ell*\\lg{n})$ time.\n",
    "\n",
    "We use $O(1)$ space to store the first word and the floor and ceiling indices."
   ]
  },
  {
   "cell_type": "markdown",
   "metadata": {},
   "source": [
    "## Bonus\n",
    "\n",
    "This function assumes that the list is rotated. If it isn't, what index will it return?\n",
    "\n",
    "How can we fix our function to return 0 for an unrotated list?\n",
    "\n"
   ]
  },
  {
   "cell_type": "code",
   "execution_count": null,
   "metadata": {},
   "outputs": [],
   "source": []
  }
 ],
 "metadata": {
  "kernelspec": {
   "display_name": "Python 3",
   "language": "python",
   "name": "python3"
  },
  "language_info": {
   "codemirror_mode": {
    "name": "ipython",
    "version": 3
   },
   "file_extension": ".py",
   "mimetype": "text/x-python",
   "name": "python",
   "nbconvert_exporter": "python",
   "pygments_lexer": "ipython3",
   "version": "3.6.1"
  },
  "toc": {
   "nav_menu": {},
   "number_sections": true,
   "sideBar": true,
   "skip_h1_title": false,
   "title_cell": "Table of Contents",
   "title_sidebar": "Contents",
   "toc_cell": false,
   "toc_position": {},
   "toc_section_display": true,
   "toc_window_display": false
  }
 },
 "nbformat": 4,
 "nbformat_minor": 2
}
