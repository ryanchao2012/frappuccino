{
 "cells": [
  {
   "cell_type": "markdown",
   "metadata": {
    "toc": true
   },
   "source": [
    "<h1>Table of Contents<span class=\"tocSkip\"></span></h1>\n",
    "<div class=\"toc\"><ul class=\"toc-item\"><li><span><a href=\"#Hooray!-It's-opposite-day.-Linked-lists-go-the-opposite-way-today.\" data-toc-modified-id=\"Hooray!-It's-opposite-day.-Linked-lists-go-the-opposite-way-today.-1\"><span class=\"toc-item-num\">1&nbsp;&nbsp;</span>Hooray! It's opposite day. Linked lists go the opposite way today.</a></span></li><li><span><a href=\"#Gotchas\" data-toc-modified-id=\"Gotchas-2\"><span class=\"toc-item-num\">2&nbsp;&nbsp;</span>Gotchas</a></span></li><li><span><a href=\"#Solution\" data-toc-modified-id=\"Solution-3\"><span class=\"toc-item-num\">3&nbsp;&nbsp;</span>Solution</a></span></li><li><span><a href=\"#Complexity\" data-toc-modified-id=\"Complexity-4\"><span class=\"toc-item-num\">4&nbsp;&nbsp;</span>Complexity</a></span></li><li><span><a href=\"#Bonus\" data-toc-modified-id=\"Bonus-5\"><span class=\"toc-item-num\">5&nbsp;&nbsp;</span>Bonus</a></span></li><li><span><a href=\"#What-We-Learned\" data-toc-modified-id=\"What-We-Learned-6\"><span class=\"toc-item-num\">6&nbsp;&nbsp;</span>What We Learned</a></span></li></ul></div>"
   ]
  },
  {
   "cell_type": "markdown",
   "metadata": {
    "ExecuteTime": {
     "end_time": "2018-08-26T09:42:59.901425Z",
     "start_time": "2018-08-26T09:42:59.897850Z"
    }
   },
   "source": [
    "# Hooray! It's opposite day. Linked lists go the opposite way today.\n",
    "\n",
    "Write a function for reversing a [linked list](./linkedlist.md). Do it [in place](./in-place.md).\n",
    "\n",
    "Your function will have one input: the head of the list.\n",
    "\n",
    "Your function should return the new head of the list.\n",
    "\n",
    "\n",
    "```python\n",
    "class LinkedListNode(object):\n",
    "\n",
    "    def __init__(self, value):\n",
    "        self.value = value\n",
    "        self.next  = None\n",
    "```\n"
   ]
  },
  {
   "cell_type": "code",
   "execution_count": 1,
   "metadata": {
    "ExecuteTime": {
     "end_time": "2018-09-02T15:46:58.096387Z",
     "start_time": "2018-09-02T15:46:58.092070Z"
    },
    "init_cell": true
   },
   "outputs": [],
   "source": [
    "class LinkedListNode(object):\n",
    "\n",
    "    def __init__(self, value):\n",
    "        self.value = value\n",
    "        self.next  = None"
   ]
  },
  {
   "cell_type": "markdown",
   "metadata": {},
   "source": [
    "# Gotchas\n",
    "We can do this in $O(1)$ space. So don't make a new list; use the existing list nodes!\n",
    "\n",
    "We can do this is in $O(n)$ time.\n",
    "\n",
    "Careful—even the right approach will fail if done in the wrong order.\n",
    "\n",
    "Try drawing a picture of a small linked list and running your function by hand. Does it actually work?\n",
    "\n",
    "The most obvious edge cases are:\n",
    "\n",
    "the list has 0 elements\n",
    "the list has 1 element\n",
    "Does your function correctly handle those cases?"
   ]
  },
  {
   "cell_type": "markdown",
   "metadata": {},
   "source": [
    "# Solution"
   ]
  },
  {
   "cell_type": "code",
   "execution_count": 6,
   "metadata": {
    "ExecuteTime": {
     "end_time": "2018-08-26T12:17:44.423527Z",
     "start_time": "2018-08-26T12:17:44.406151Z"
    }
   },
   "outputs": [
    {
     "name": "stderr",
     "output_type": "stream",
     "text": [
      "test_empty_linked_list (__main__.Test) ... ok\n",
      "test_long_linked_list (__main__.Test) ... ok\n",
      "test_one_element_linked_list (__main__.Test) ... ok\n",
      "test_short_linked_list (__main__.Test) ... ok\n",
      "\n",
      "----------------------------------------------------------------------\n",
      "Ran 4 tests in 0.004s\n",
      "\n",
      "OK\n"
     ]
    }
   ],
   "source": [
    "import unittest\n",
    "\n",
    "\n",
    "def reverse(head_of_list):\n",
    "    \n",
    "    if head_of_list is None:\n",
    "        return\n",
    "\n",
    "    # Reverse the linked list in place\n",
    "    this_ = head_of_list\n",
    "    previous_ = None\n",
    "    \n",
    "    while this_ is not None:\n",
    "        next_ = this_.next\n",
    "        this_.next = previous_\n",
    "        previous_ = this_\n",
    "        this_ = next_\n",
    "\n",
    "    return previous_\n",
    "\n",
    "\n",
    "# Tests\n",
    "\n",
    "class Test(unittest.TestCase):\n",
    "\n",
    "    class LinkedListNode(object):\n",
    "\n",
    "        def __init__(self, value, next=None):\n",
    "            self.value = value\n",
    "            self.next  = next\n",
    "\n",
    "        def get_values(self):\n",
    "            node = self\n",
    "            values = []\n",
    "            while node is not None:\n",
    "                values.append(node.value)\n",
    "                node = node.next\n",
    "            return values\n",
    "\n",
    "    def test_short_linked_list(self):\n",
    "        second = Test.LinkedListNode(2)\n",
    "        first = Test.LinkedListNode(1, second)\n",
    "\n",
    "        result = reverse(first)\n",
    "        self.assertIsNotNone(result)\n",
    "\n",
    "        actual = result.get_values()\n",
    "        expected = [2, 1]\n",
    "        self.assertEqual(actual, expected)\n",
    "\n",
    "    def test_long_linked_list(self):\n",
    "        sixth = Test.LinkedListNode(6)\n",
    "        fifth = Test.LinkedListNode(5, sixth)\n",
    "        fourth = Test.LinkedListNode(4, fifth)\n",
    "        third = Test.LinkedListNode(3, fourth)\n",
    "        second = Test.LinkedListNode(2, third)\n",
    "        first = Test.LinkedListNode(1, second)\n",
    "\n",
    "        result = reverse(first)\n",
    "        self.assertIsNotNone(result)\n",
    "\n",
    "        actual = result.get_values()\n",
    "        expected = [6, 5, 4, 3, 2, 1]\n",
    "        self.assertEqual(actual, expected)\n",
    "\n",
    "    def test_one_element_linked_list(self):\n",
    "        first = Test.LinkedListNode(1)\n",
    "\n",
    "        result = reverse(first)\n",
    "        self.assertIsNotNone(result)\n",
    "\n",
    "        actual = result.get_values()\n",
    "        expected = [1]\n",
    "        self.assertEqual(actual, expected)\n",
    "\n",
    "    def test_empty_linked_list(self):\n",
    "        result = reverse(None)\n",
    "        self.assertIsNone(result)\n",
    "\n",
    "\n",
    "if __name__ == '__main__':\n",
    "    unittest.main(argv=['first-arg-is-ignored'], exit=False, verbosity=2)"
   ]
  },
  {
   "cell_type": "markdown",
   "metadata": {},
   "source": [
    "# Complexity\n",
    "\n",
    "$O(n)$ time and $O(1)$ space. We pass over the list only once, and maintain a constant number of variables in memory."
   ]
  },
  {
   "cell_type": "markdown",
   "metadata": {},
   "source": [
    "# Bonus\n",
    "\n",
    "This in-place reversal destroys the input linked list. What if we wanted to keep a copy of the original linked list? Write a function for reversing a linked list out-of-place."
   ]
  },
  {
   "cell_type": "markdown",
   "metadata": {},
   "source": [
    "# What We Learned\n",
    "\n",
    "It's one of those problems where, even once you know the procedure, it's hard to write a bug-free solution. Drawing it out helps a lot. Write out a sample linked list and walk through your code by hand, step by step, running each operation on your sample input to see if the final output is what you expect. This is a great strategy for any coding interview question.\n"
   ]
  },
  {
   "cell_type": "code",
   "execution_count": null,
   "metadata": {},
   "outputs": [],
   "source": []
  }
 ],
 "metadata": {
  "celltoolbar": "Initialization Cell",
  "kernelspec": {
   "display_name": "Python 3",
   "language": "python",
   "name": "python3"
  },
  "language_info": {
   "codemirror_mode": {
    "name": "ipython",
    "version": 3
   },
   "file_extension": ".py",
   "mimetype": "text/x-python",
   "name": "python",
   "nbconvert_exporter": "python",
   "pygments_lexer": "ipython3",
   "version": "3.6.1"
  },
  "latex_envs": {
   "LaTeX_envs_menu_present": true,
   "autoclose": false,
   "autocomplete": true,
   "bibliofile": "biblio.bib",
   "cite_by": "apalike",
   "current_citInitial": 1,
   "eqLabelWithNumbers": true,
   "eqNumInitial": 1,
   "hotkeys": {
    "equation": "Ctrl-E",
    "itemize": "Ctrl-I"
   },
   "labels_anchors": false,
   "latex_user_defs": false,
   "report_style_numbering": false,
   "user_envs_cfg": false
  },
  "toc": {
   "nav_menu": {},
   "number_sections": true,
   "sideBar": true,
   "skip_h1_title": false,
   "title_cell": "Table of Contents",
   "title_sidebar": "Contents",
   "toc_cell": true,
   "toc_position": {
    "height": "579px",
    "left": "327px",
    "top": "111px",
    "width": "165px"
   },
   "toc_section_display": true,
   "toc_window_display": false
  }
 },
 "nbformat": 4,
 "nbformat_minor": 2
}
